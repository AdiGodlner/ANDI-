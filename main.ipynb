{
 "cells": [
  {
   "cell_type": "markdown",
   "id": "b496887c",
   "metadata": {},
   "source": [
    "this code uses some progarms direactly from the os that might need to be installed on the operators machine \n",
    "\n",
    "---\n",
    "\n",
    "so far we have used \n",
    "dcm2niix to convert dcm to nii files we do this for proformance reasons as the data is lare and saving time is nacceary \n",
    "\n",
    "\n"
   ]
  },
  {
   "cell_type": "code",
   "execution_count": 1,
   "id": "27a25f57",
   "metadata": {},
   "outputs": [
    {
     "name": "stdout",
     "output_type": "stream",
     "text": [
      "starting\n",
      "Chris Rorden's dcm2niiX version v1.0.20220720  (JP2:OpenJPEG) GCC13.2.0 x86-64 (64-bit Linux)\n",
      "Found 6720 DICOM file(s)\n",
      "Warning: Discrepancy between reported (3s) and estimated (6.02158s) repetition time (issue 560).\n",
      "Warning: Seconds between volumes varies\n",
      "Philips Scaling Values RS:RI:SS = 1.22222:0:0.000600573 (see PMC3998685)\n",
      "Convert 6720 DICOM as ./DATA/testing/I238623/I238623_Resting_State_fMRI_20110602075636_501a (64x64x48x140)\n",
      "Conversion required 3.497350 seconds (3.497098 for core code).\n",
      "done\n"
     ]
    }
   ],
   "source": [
    "import subprocess\n",
    "\n",
    "def convert_dicom_to_nifti(dicom_dir, output_dir):\n",
    "    command = ['dcm2niix', '-o', output_dir, dicom_dir]\n",
    "    subprocess.run(command, check=True)\n",
    "\n",
    "dicom_directory = \"./DATA/RAW/002_S_0295/Resting_State_fMRI/2011-06-02_07_56_36.0/I238623/\"\n",
    "output_path = \"./DATA/testing/I238623\"\n",
    "\n",
    "print(\"starting\")\n",
    "\n",
    "convert_dicom_to_nifti(dicom_directory, output_path)\n",
    "\n",
    "print(\"done\")"
   ]
  },
  {
   "cell_type": "code",
   "execution_count": null,
   "id": "87eee8ad",
   "metadata": {},
   "outputs": [],
   "source": []
  },
  {
   "cell_type": "code",
   "execution_count": 1,
   "id": "d3d33ed2",
   "metadata": {},
   "outputs": [
    {
     "name": "stdout",
     "output_type": "stream",
     "text": [
      "starting \n",
      "NIfTI Image Dimensions: (64, 64, 48, 140)\n",
      "fibished\n"
     ]
    }
   ],
   "source": [
    "# sanity check to see if nii coversion was sucssuful \n",
    "# NOTE this looks fine for now need to check with ANDI documentation \n",
    "# to see if this is realy the size of the data \n",
    "\n",
    "import nibabel as nib\n",
    "\n",
    "def check_nii_dimensions(nii_file_path):\n",
    "    nii_image = nib.load(nii_file_path)\n",
    "    dimensions = nii_image.shape  # Get the dimensions of the NIfTI file\n",
    "    print(f\"NIfTI Image Dimensions: {dimensions}\")\n",
    "\n",
    "# Example usage\n",
    "nii_file_path = \"./DATA/testing/I238623/I238623_Resting_State_fMRI_20110602075636_501.nii\"\n",
    "\n",
    "print(\"starting \")\n",
    "check_nii_dimensions(nii_file_path)\n",
    "\n",
    "print(\"fibished\")"
   ]
  },
  {
   "cell_type": "code",
   "execution_count": null,
   "id": "c6b74912",
   "metadata": {},
   "outputs": [],
   "source": [
    "# sanity check continues \n",
    "# NOTE this looks fine for now need to check with ANDI documentation \n",
    "# to see if this is realy the size of the data \n",
    "\n",
    "import os\n",
    "\n",
    "def count_dicom_files(dicom_dir):\n",
    "    dicom_files = [f for f in os.listdir(dicom_dir) if f.lower().endswith('.dcm')]\n",
    "    return len(dicom_files)\n",
    "\n",
    "# Count DICOM files\n",
    "dicom_count = count_dicom_files(\"./DATA/RAW/002_S_0295/Resting_State_fMRI/2011-06-02_07_56_36.0/I238623/\")\n",
    "print(f\"Number of DICOM files: {dicom_count}\")"
   ]
  },
  {
   "cell_type": "code",
   "execution_count": null,
   "id": "6bd3b913",
   "metadata": {},
   "outputs": [],
   "source": [
    "#  converting all dicom files in RAW data to nii files \n",
    "# TODO find a way to stop printing so much stuff  \n",
    "\n",
    "def convert_all_dicoms(base_dir, output_base_dir):\n",
    "    \n",
    "    for curr_path, dirs, files in os.walk(base_dir):\n",
    "        \n",
    "        # Check if we are in the deepest folder containing DICOM files\n",
    "        if any(file.lower().endswith('.dcm') for file in files):\n",
    "            \n",
    "            relative_path = os.path.relpath(curr_path, base_dir)\n",
    "            output_dir = os.path.join(output_base_dir, relative_path)\n",
    "            os.makedirs(output_dir, exist_ok=True)\n",
    "            \n",
    "            # Convert using dcm2niix\n",
    "            command = ['dcm2niix', '-o', output_dir, curr_path]\n",
    "            subprocess.run(command, check=True)\n",
    "            print(f\"Converted DICOM folder: {curr_path} to {output_dir}\")\n",
    "\n",
    "base_dicom_dir = \"./DATA/RAW/\"\n",
    "output_path = \"./DATA/testing/\"\n",
    "\n",
    "print(\"starting\")\n",
    "\n",
    "convert_all_dicoms(base_dicom_dir,output_path)\n",
    "\n",
    "print(\"end\")\n"
   ]
  },
  {
   "cell_type": "code",
   "execution_count": null,
   "id": "3bbf3b89",
   "metadata": {},
   "outputs": [],
   "source": [
    "\n",
    "from nipype import Node\n",
    "from nipype.interfaces.fsl import MCFLIRT\n",
    "from nipype import Workflow, Node\n",
    "\n",
    "def perform_realignment(input_file, output_file):\n",
    "    realign_node = Node(MCFLIRT(), name='realignment')\n",
    "    realign_node.inputs.in_file = input_file\n",
    "    realign_node.inputs.out_file = output_file\n",
    "    realign_node.inputs.cost = \"normcorr\"  # Example parameter, you can change this\n",
    "    realign_node.inputs.save_mats = True\n",
    "    realign_node.inputs.save_plots = True\n",
    "    return realign_node\n",
    "\n",
    "# Usage\n",
    "realignment_node = perform_realignment(nii_file_path, 'realigned_data.nii')\n",
    "wf_realign = Workflow(name='realignment_workflow')\n",
    "wf_realign.add_nodes([realign_node])\n",
    "wf_realign.run()\n",
    "\n",
    "\n"
   ]
  },
  {
   "cell_type": "code",
   "execution_count": 2,
   "id": "8bc834e0",
   "metadata": {},
   "outputs": [
    {
     "ename": "ModuleNotFoundError",
     "evalue": "No module named 'fslpy'",
     "output_type": "error",
     "traceback": [
      "\u001b[0;31m---------------------------------------------------------------------------\u001b[0m",
      "\u001b[0;31mModuleNotFoundError\u001b[0m                       Traceback (most recent call last)",
      "Cell \u001b[0;32mIn[2], line 1\u001b[0m\n\u001b[0;32m----> 1\u001b[0m \u001b[38;5;28;01mimport\u001b[39;00m \u001b[38;5;21;01mfslpy\u001b[39;00m\n\u001b[1;32m      2\u001b[0m \u001b[38;5;28;01mimport\u001b[39;00m \u001b[38;5;21;01mfsl\u001b[39;00m\u001b[38;5;21;01m.\u001b[39;00m\u001b[38;5;21;01mwrappers\u001b[39;00m \u001b[38;5;28;01mas\u001b[39;00m \u001b[38;5;21;01mfslw\u001b[39;00m\n\u001b[1;32m      4\u001b[0m \u001b[38;5;28;01mdef\u001b[39;00m \u001b[38;5;21mperform_realignment\u001b[39m(input_file, output_file):\n\u001b[1;32m      5\u001b[0m     \u001b[38;5;66;03m# Use MCFLIRT for motion correction\u001b[39;00m\n",
      "\u001b[0;31mModuleNotFoundError\u001b[0m: No module named 'fslpy'"
     ]
    }
   ],
   "source": [
    "import fslpy\n",
    "import fsl.wrappers as fslw\n",
    "\n",
    "def perform_realignment(input_file, output_file):\n",
    "    # Use MCFLIRT for motion correction\n",
    "    fslw.mcflirt(infile=input_file, outfile=output_file, save_mats=True, save_plots=True, cost='normcorr')\n",
    "\n",
    "input_file = 'path/to/your/input_file.nii.gz'\n",
    "output_file = 'path/to/your/output_file.nii.gz'\n",
    "\n",
    "perform_realignment(input_file, output_file)\n",
    "\n",
    "\n",
    "\n"
   ]
  },
  {
   "cell_type": "code",
   "execution_count": null,
   "id": "43f21d90-fb4c-496b-a057-cbe301894a89",
   "metadata": {},
   "outputs": [],
   "source": [
    "import subprocess\n",
    "subprocess.run(['fslmaths', '--help'])"
   ]
  },
  {
   "cell_type": "code",
   "execution_count": null,
   "id": "a8665618-75e0-4e7e-8786-485a61e9a1a6",
   "metadata": {},
   "outputs": [],
   "source": []
  },
  {
   "cell_type": "code",
   "execution_count": null,
   "id": "70656018-87f2-4760-bb1a-6ace0a38c91e",
   "metadata": {},
   "outputs": [],
   "source": [
    "# view ini data \n",
    "\n",
    "fmri_img = nib.load('your_fmri_data.nii')\n",
    "fmri_data = fmri_img.get_fdata()\n",
    "\n",
    "# Get the shape of the data\n",
    "print(\"fMRI data shape:\", fmri_data.shape)\n"
   ]
  },
  {
   "cell_type": "code",
   "execution_count": null,
   "id": "4e3d322a-fee6-4ad6-a6f4-73140fdec4e4",
   "metadata": {},
   "outputs": [],
   "source": []
  },
  {
   "cell_type": "code",
   "execution_count": null,
   "id": "e5edd36a-f2d1-4306-a4a9-fb8999f2ac44",
   "metadata": {},
   "outputs": [],
   "source": []
  },
  {
   "cell_type": "code",
   "execution_count": null,
   "id": "499c6e7b-afbd-4e4c-ba26-4bbec71b6321",
   "metadata": {},
   "outputs": [],
   "source": []
  },
  {
   "cell_type": "code",
   "execution_count": null,
   "id": "e554673d-afd3-4243-95d6-56d44904cbdb",
   "metadata": {},
   "outputs": [],
   "source": []
  },
  {
   "cell_type": "code",
   "execution_count": null,
   "id": "377e3110-7d9b-450e-90cd-9652cdb23126",
   "metadata": {},
   "outputs": [],
   "source": []
  },
  {
   "cell_type": "code",
   "execution_count": null,
   "id": "f1e78309-b9f0-4e29-afa0-696817954135",
   "metadata": {},
   "outputs": [],
   "source": []
  },
  {
   "cell_type": "code",
   "execution_count": null,
   "id": "4dbc8894-b499-4dca-9053-1c2287e1f382",
   "metadata": {},
   "outputs": [],
   "source": []
  },
  {
   "cell_type": "code",
   "execution_count": null,
   "id": "9fea490a-7acc-430d-afd3-da47a33cb2bb",
   "metadata": {},
   "outputs": [],
   "source": []
  },
  {
   "cell_type": "code",
   "execution_count": null,
   "id": "d6ba8c9f-9898-496f-a384-5746cbf9fe60",
   "metadata": {},
   "outputs": [],
   "source": []
  },
  {
   "cell_type": "code",
   "execution_count": null,
   "id": "622762da-aef7-4ed0-8661-5359beddd6ef",
   "metadata": {},
   "outputs": [],
   "source": []
  }
 ],
 "metadata": {
  "kernelspec": {
   "display_name": "Python 3 (ipykernel)",
   "language": "python",
   "name": "python3"
  },
  "language_info": {
   "codemirror_mode": {
    "name": "ipython",
    "version": 3
   },
   "file_extension": ".py",
   "mimetype": "text/x-python",
   "name": "python",
   "nbconvert_exporter": "python",
   "pygments_lexer": "ipython3",
   "version": "3.12.3"
  }
 },
 "nbformat": 4,
 "nbformat_minor": 5
}
